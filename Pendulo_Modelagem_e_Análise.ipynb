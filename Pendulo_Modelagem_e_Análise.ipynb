{
  "nbformat": 4,
  "nbformat_minor": 0,
  "metadata": {
    "colab": {
      "name": "Pendulo: Modelagem e Análise",
      "provenance": [],
      "collapsed_sections": [],
      "authorship_tag": "ABX9TyN5kroVqgvhYJxY8OtKobox",
      "include_colab_link": true
    },
    "kernelspec": {
      "name": "python3",
      "display_name": "Python 3"
    },
    "language_info": {
      "name": "python"
    }
  },
  "cells": [
    {
      "cell_type": "markdown",
      "metadata": {
        "id": "view-in-github",
        "colab_type": "text"
      },
      "source": [
        "<a href=\"https://colab.research.google.com/github/raphateixeira/Sistemas-Dinamicos/blob/Pendulo/Pendulo_Modelagem_e_An%C3%A1lise.ipynb\" target=\"_parent\"><img src=\"https://colab.research.google.com/assets/colab-badge.svg\" alt=\"Open In Colab\"/></a>"
      ]
    },
    {
      "cell_type": "code",
      "metadata": {
        "id": "nxVBSeFqcNqQ"
      },
      "source": [
        "from scipy.integrate import odeint\n",
        "import numpy as np\n",
        "from IPython.display import Image"
      ],
      "execution_count": null,
      "outputs": []
    },
    {
      "cell_type": "markdown",
      "metadata": {
        "id": "KYH-lX4wthhG"
      },
      "source": [
        "O pêndulo simples é dos sistemas dinâmicos mais estudados e conhecidos.\n",
        "\n",
        "O sistema é composto por uma massa $m$ ligada a um ponto fixo por uma haste rígida de comprimendo $l$ e que oscila devido a ação da gravidade.\n",
        "\n",
        "A haste forma um ângulo $\\alpha$ com o eixo vertical que passa pelo ponto fixo, que descreve a posição angular da massa $m$.\n",
        "\n",
        "O movimento do pêndulo pode ser visualizado abaixo:"
      ]
    },
    {
      "cell_type": "code",
      "metadata": {
        "colab": {
          "base_uri": "https://localhost:8080/",
          "height": 621
        },
        "id": "3uKZhW-JsR5n",
        "outputId": "d1819fee-69ed-473e-e543-f262233ec100"
      },
      "source": [
        "gifPendulo = 'https://upload.wikimedia.org/wikipedia/commons/thumb/6/64/AnimatedPendulum.gif/512px-AnimatedPendulum.gif.png'\n",
        "Image(url=gifPendulo)"
      ],
      "execution_count": null,
      "outputs": [
        {
          "output_type": "execute_result",
          "data": {
            "text/html": [
              "<img src=\"https://upload.wikimedia.org/wikipedia/commons/thumb/6/64/AnimatedPendulum.gif/512px-AnimatedPendulum.gif.png\"/>"
            ],
            "text/plain": [
              "<IPython.core.display.Image object>"
            ]
          },
          "metadata": {},
          "execution_count": 9
        }
      ]
    },
    {
      "cell_type": "markdown",
      "metadata": {
        "id": "6WijKrn0tcYH"
      },
      "source": [
        "\n",
        "Para modeloar o comportamento do pêndulo pode-se aplicar a segunda lei de Newton buscando explicar o movimento oscilatório.\n",
        "\n",
        "Para isso pode-se observar as forças atuando sobre a massa $m$. A força peso $P = mg$ é decomposta em duas componentes (o movimento é em duas dimensões), uma radial ao movimento e outra tangencial, na forma:\n",
        "\n",
        "$$P = mg = mg\\sin(\\alpha)i_r + mg\\cos(\\alpha)i_t $$\n",
        "\n",
        "Sendo $i_r$ e $i_t$ vetores unitários. \n",
        "\n",
        "Note na animação que a força peso é sempre constante em módulo e direção, enquando que suas componentes *oscilam*, variando tanto em direção quanto em intensidade.\n",
        "\n",
        "A força peso radial $P_r = mg\\cos(\\alpha)$ está sempre compensando a força de tração da haste, de maneira que a força resultante radial é nula, mantendo o pêndulo sempre em equilíbrio nesta direção.\n",
        "\n",
        "O movimento oscilatório é de fato gerado pela componente tangencial. Desta forma, aplicando a segunda lei de Newton obtêm-se:\n",
        "\n",
        "$$m\\frac{d^2\\alpha}{dt^2} = mgl\\sin(\\alpha)$$\n",
        "\n",
        "É curioso notar que o movimento não depende da massa\n"
      ]
    },
    {
      "cell_type": "code",
      "metadata": {
        "id": "CHjoFkLscXbh"
      },
      "source": [
        "# Equações de Estado:\n",
        "def pendulo(x, t, b, c):\n",
        "    alfa, omega = x\n",
        "    dx1dt = alfa\n",
        "    dx2dt = -b*alfa - c*np.sin(alfa) \n",
        "    dxdt = [dx1dt, dx2dt] \n",
        "    return dxdt"
      ],
      "execution_count": null,
      "outputs": []
    },
    {
      "cell_type": "code",
      "metadata": {
        "id": "5udeuUbAccsn"
      },
      "source": [
        "# Parâtros:\n",
        "b = 0.25\n",
        "c = 5.0\n",
        "\n",
        "# Condições Iniciais:\n",
        "x0 = [np.pi - 0.001, 0.0]\n",
        "\n",
        "# Tempo:\n",
        "Ts = 0.1;\n",
        "t = np.arange(0,15,Ts)"
      ],
      "execution_count": null,
      "outputs": []
    },
    {
      "cell_type": "code",
      "metadata": {
        "id": "2qcYdPAOcqmG",
        "colab": {
          "base_uri": "https://localhost:8080/"
        },
        "outputId": "2d7e8935-59ab-4917-9ed3-1bdd1e3bb41a"
      },
      "source": [
        "x = odeint(pendulo, x0, t, args=(b, c))"
      ],
      "execution_count": null,
      "outputs": [
        {
          "output_type": "stream",
          "name": "stderr",
          "text": [
            "/usr/local/lib/python3.7/dist-packages/scipy/integrate/odepack.py:248: ODEintWarning: Excess work done on this call (perhaps wrong Dfun type). Run with full_output = 1 to get quantitative information.\n",
            "  warnings.warn(warning_msg, ODEintWarning)\n"
          ]
        },
        {
          "output_type": "execute_result",
          "data": {
            "text/plain": [
              "array([[ 3.14059265e+000,  0.00000000e+000],\n",
              "       [ 3.47089167e+000, -2.59309718e-003],\n",
              "       [ 3.83592853e+000,  1.48349286e-001],\n",
              "       [ 4.23935665e+000,  4.34235305e-001],\n",
              "       [ 4.68521368e+000,  8.02751755e-001],\n",
              "       [ 5.17796191e+000,  1.16311873e+000],\n",
              "       [ 5.72253292e+000,  1.39388878e+000],\n",
              "       [ 6.32437696e+000,  1.37230842e+000],\n",
              "       [ 6.98951749e+000,  1.02936328e+000],\n",
              "       [ 7.72461146e+000,  4.17337723e-001],\n",
              "       [ 8.53701594e+000, -2.54509679e-001],\n",
              "       [ 9.43486174e+000, -6.87664856e-001],\n",
              "       [ 1.04271348e+001, -7.06653552e-001],\n",
              "       [ 1.15237662e+001, -5.05693416e-001],\n",
              "       [ 1.27357312e+001, -6.05548382e-001],\n",
              "       [ 1.40751598e+001, -1.28164456e+000],\n",
              "       [ 1.55554572e+001, -2.01013739e+000],\n",
              "       [ 1.71914390e+001, -2.14873952e+000],\n",
              "       [ 1.89994784e+001, -2.29816649e+000],\n",
              "       [ 2.09976710e+001, -3.17857553e+000],\n",
              "       [ 2.32060153e+001, -3.69406913e+000],\n",
              "       [ 2.56466132e+001, -4.04782752e+000],\n",
              "       [ 2.83438911e+001, -5.07109758e+000],\n",
              "       [ 3.13248441e+001, -5.48218470e+000],\n",
              "       [ 3.46193067e+001, -6.60814618e+000],\n",
              "       [ 3.82602510e+001, -7.26190766e+000],\n",
              "       [ 4.22841167e+001, -8.39794857e+000],\n",
              "       [ 4.67311761e+001, -9.58982886e+000],\n",
              "       [ 5.16459368e+001, -1.07004938e+001],\n",
              "       [ 5.70775874e+001, -1.20021890e+001],\n",
              "       [ 6.30804897e+001, -1.35021740e+001],\n",
              "       [ 6.97147227e+001, -1.51780666e+001],\n",
              "       [ 7.70466841e+001, -1.70750137e+001],\n",
              "       [ 8.51497546e+001, -1.91524060e+001],\n",
              "       [ 9.41050325e+001, -2.12829062e+001],\n",
              "       [ 1.04002145e+002, -2.38553139e+001],\n",
              "       [ 1.14940146e+002, -2.65555057e+001],\n",
              "       [ 1.27028507e+002, -2.95579213e+001],\n",
              "       [ 1.40388212e+002, -3.29257227e+001],\n",
              "       [ 1.55152969e+002, -3.66088097e+001],\n",
              "       [ 1.71470549e+002, -4.06839373e+001],\n",
              "       [ 1.89504264e+002, -4.51710332e+001],\n",
              "       [ 2.09434601e+002, -5.01795331e+001],\n",
              "       [ 2.31461031e+002, -5.56631213e+001],\n",
              "       [ 2.55804000e+002, -6.17647875e+001],\n",
              "       [ 2.82707141e+002, -6.84682618e+001],\n",
              "       [ 3.12439711e+002, -7.59214973e+001],\n",
              "       [ 3.45299282e+002, -8.41200456e+001],\n",
              "       [ 3.81614724e+002, -9.32140129e+001],\n",
              "       [ 4.21749495e+002, -1.03238028e+002],\n",
              "       [ 4.66105277e+002, -1.14331044e+002],\n",
              "       [ 5.15125997e+002, -1.26580970e+002],\n",
              "       [ 5.69302271e+002, -1.40141573e+002],\n",
              "       [ 6.29176313e+002, -1.55098003e+002],\n",
              "       [ 6.95347364e+002, -1.71649530e+002],\n",
              "       [ 7.68477685e+002, -1.89930837e+002],\n",
              "       [ 8.49299188e+002, -2.10131117e+002],\n",
              "       [ 9.38620764e+002, -2.32468374e+002],\n",
              "       [ 1.03733637e+003, -2.57139308e+002],\n",
              "       [ 1.14643399e+003, -2.84421858e+002],\n",
              "       [ 1.26700550e+003, -3.14562824e+002],\n",
              "       [ 1.40025764e+003, -3.47871340e+002],\n",
              "       [ 1.54752402e+003, -3.84691092e+002],\n",
              "       [ 1.71027854e+003, -4.25377883e+002],\n",
              "       [ 1.89015010e+003, -4.70345478e+002],\n",
              "       [ 2.08893893e+003, -5.20046256e+002],\n",
              "       [ 2.30863455e+003, -5.74969854e+002],\n",
              "       [ 2.55143577e+003, -6.35666425e+002],\n",
              "       [ 2.81977261e+003, -7.02752147e+002],\n",
              "       [ 3.10761113e+003, -7.74713413e+002],\n",
              "       [ 0.00000000e+000,  0.00000000e+000],\n",
              "       [ 0.00000000e+000,  4.94065646e-324],\n",
              "       [ 6.91622631e-310,  6.91622631e-310],\n",
              "       [ 6.91622631e-310,  6.91622088e-310],\n",
              "       [ 6.91626804e-310,  6.91626804e-310],\n",
              "       [ 6.91626804e-310,  6.91622631e-310],\n",
              "       [ 6.91622631e-310,  6.91622631e-310],\n",
              "       [ 6.91622631e-310,  6.91622631e-310],\n",
              "       [ 6.91626804e-310,  6.91622631e-310],\n",
              "       [ 6.91626804e-310,  6.91622631e-310],\n",
              "       [ 6.91622631e-310,  6.91622631e-310],\n",
              "       [ 6.91622631e-310,  6.91622631e-310],\n",
              "       [ 6.91622631e-310,  6.91622631e-310],\n",
              "       [ 6.91626804e-310,  6.91622631e-310],\n",
              "       [ 6.91626804e-310,  6.91622631e-310],\n",
              "       [ 6.91622631e-310,  6.91622631e-310],\n",
              "       [ 6.91622631e-310,  6.91622631e-310],\n",
              "       [ 6.91622631e-310,  6.91622631e-310],\n",
              "       [ 6.91626804e-310,  6.91622631e-310],\n",
              "       [ 6.91626804e-310,  6.91622631e-310],\n",
              "       [ 6.91622631e-310,  6.91622631e-310],\n",
              "       [ 6.91622631e-310,  6.91622631e-310],\n",
              "       [ 6.91622631e-310,  6.91622631e-310],\n",
              "       [ 6.91626804e-310,  6.91622631e-310],\n",
              "       [ 6.91626804e-310,  6.91622631e-310],\n",
              "       [ 6.91622631e-310,  6.91622631e-310],\n",
              "       [ 6.91622631e-310,  6.91622631e-310],\n",
              "       [ 6.91622631e-310,  6.91622631e-310],\n",
              "       [ 6.91626804e-310,  6.91622631e-310],\n",
              "       [ 6.91626804e-310,  6.91622631e-310],\n",
              "       [ 6.91622631e-310,  6.91622631e-310],\n",
              "       [ 6.91622631e-310,  6.91622631e-310],\n",
              "       [ 6.91622631e-310,  6.91622631e-310],\n",
              "       [ 6.91626804e-310,  6.91622631e-310],\n",
              "       [ 6.91626804e-310,  6.91622631e-310],\n",
              "       [ 6.91622631e-310,  6.91622631e-310],\n",
              "       [ 6.91622631e-310,  6.91622631e-310],\n",
              "       [ 6.91622631e-310,  6.91622631e-310],\n",
              "       [ 6.91626804e-310,  6.91622631e-310],\n",
              "       [ 6.91626804e-310,  6.91622631e-310],\n",
              "       [ 6.91622631e-310,  6.91622631e-310],\n",
              "       [ 6.91622631e-310,  6.91622631e-310],\n",
              "       [ 6.91622631e-310,  6.91622631e-310],\n",
              "       [ 6.91626804e-310,  6.91622631e-310],\n",
              "       [ 6.91626804e-310,  6.91622631e-310],\n",
              "       [ 6.91622631e-310,  6.91622631e-310],\n",
              "       [ 6.91622631e-310,  6.91622631e-310],\n",
              "       [ 6.91622631e-310,  6.91622631e-310],\n",
              "       [ 6.91626804e-310,  6.91622631e-310],\n",
              "       [ 6.91626804e-310,  6.91622631e-310],\n",
              "       [ 6.91622631e-310,  6.91622631e-310],\n",
              "       [ 6.91622631e-310,  6.91622631e-310],\n",
              "       [ 6.91622631e-310,  6.91622631e-310],\n",
              "       [ 6.91626804e-310,  6.91622631e-310],\n",
              "       [ 6.91626804e-310,  6.91622631e-310],\n",
              "       [ 6.91622631e-310,  6.91622631e-310],\n",
              "       [ 6.91622631e-310,  6.91622631e-310],\n",
              "       [ 6.91622631e-310,  6.91622631e-310],\n",
              "       [ 6.91626804e-310,  6.91622631e-310],\n",
              "       [ 6.91626804e-310,  6.91622631e-310],\n",
              "       [ 6.91622631e-310,  6.91622631e-310],\n",
              "       [ 6.91622631e-310,  6.91622631e-310],\n",
              "       [ 6.91622631e-310,  6.91622631e-310],\n",
              "       [ 6.91626804e-310,  6.91622631e-310],\n",
              "       [ 6.91626804e-310,  6.91622631e-310],\n",
              "       [ 6.91622631e-310,  6.91622631e-310],\n",
              "       [ 6.91622631e-310,  6.91622631e-310],\n",
              "       [ 6.91622631e-310,  6.91622631e-310],\n",
              "       [ 6.91626804e-310,  6.91622631e-310],\n",
              "       [ 6.91626804e-310,  6.91622631e-310],\n",
              "       [ 6.91622631e-310,  6.91622631e-310],\n",
              "       [ 6.91622631e-310,  6.91622631e-310],\n",
              "       [ 6.91622631e-310,  6.91622631e-310],\n",
              "       [ 6.91626804e-310,  6.91622631e-310],\n",
              "       [ 6.91626804e-310,  6.91622631e-310],\n",
              "       [ 6.91622631e-310,  6.91622631e-310],\n",
              "       [ 6.91622631e-310,  6.91622631e-310],\n",
              "       [ 6.91622631e-310,  6.91622631e-310],\n",
              "       [ 6.91626804e-310,  6.91622631e-310],\n",
              "       [ 6.91626804e-310,  6.91622631e-310]])"
            ]
          },
          "metadata": {},
          "execution_count": 19
        }
      ]
    },
    {
      "cell_type": "code",
      "metadata": {
        "colab": {
          "base_uri": "https://localhost:8080/",
          "height": 282
        },
        "id": "UtNnUocvc343",
        "outputId": "512e3ac7-43e4-48a9-b147-acc70d31bbe1"
      },
      "source": [
        "import matplotlib.pyplot as plt\n",
        "plt.plot(t, x[:, 0], 'b', label='theta(t)')\n",
        "plt.plot(t, x[:, 1], 'g', label='omega(t)')\n",
        "plt.legend(loc='best')\n",
        "plt.grid()\n",
        "plt.show()"
      ],
      "execution_count": null,
      "outputs": [
        {
          "output_type": "execute_result",
          "data": {
            "text/plain": [
              "<matplotlib.legend.Legend at 0x7f85c57d8b50>"
            ]
          },
          "metadata": {
            "tags": []
          },
          "execution_count": 67
        },
        {
          "output_type": "display_data",
          "data": {
            "image/png": "[encoded data removed]",
            "text/plain": [
              "<Figure size 432x288 with 1 Axes>"
            ]
          },
          "metadata": {
            "tags": [],
            "needs_background": "light"
          }
        }
      ]
    }
  ]
}